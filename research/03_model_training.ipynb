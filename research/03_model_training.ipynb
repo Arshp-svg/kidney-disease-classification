{
 "cells": [
  {
   "cell_type": "code",
   "execution_count": 2,
   "id": "73d4c867",
   "metadata": {},
   "outputs": [],
   "source": [
    "import os"
   ]
  },
  {
   "cell_type": "code",
   "execution_count": 3,
   "id": "581100c6",
   "metadata": {},
   "outputs": [],
   "source": [
    "os.chdir(\"../\")"
   ]
  },
  {
   "cell_type": "code",
   "execution_count": 4,
   "id": "6bf90428",
   "metadata": {},
   "outputs": [
    {
     "data": {
      "text/plain": [
       "'c:\\\\Users\\\\ARSH\\\\Desktop\\\\MLOps\\\\kidney-disease-classification'"
      ]
     },
     "execution_count": 4,
     "metadata": {},
     "output_type": "execute_result"
    }
   ],
   "source": [
    "%pwd"
   ]
  },
  {
   "cell_type": "code",
   "execution_count": 5,
   "id": "bcebb9de",
   "metadata": {},
   "outputs": [],
   "source": [
    "from dataclasses import dataclass\n",
    "from pathlib import Path\n",
    "\n",
    "@dataclass\n",
    "class TrainingConfig:\n",
    "   root_dir: Path\n",
    "   model_checkpoint: Path\n",
    "   updated_base_model_path:Path\n",
    "   training_data:Path\n",
    "   params_epoch:int\n",
    "   params_batch_size:int\n",
    "   params_image_size:list\n",
    "   params_augmentation:bool"
   ]
  },
  {
   "cell_type": "code",
   "execution_count": 6,
   "id": "712eb867",
   "metadata": {},
   "outputs": [],
   "source": [
    "from cnnClassifier.constants import CONFIG_FILE_PATH,PARAMS_FILE_PATH\n",
    "from cnnClassifier.utils.common import read_yaml,create_directories\n",
    "import tensorflow as tf"
   ]
  },
  {
   "cell_type": "code",
   "execution_count": 7,
   "id": "2cffd7c2",
   "metadata": {},
   "outputs": [],
   "source": [
    "class ConfigurationManager:\n",
    "    def __init__(\n",
    "        self,\n",
    "        config_filepath=CONFIG_FILE_PATH, \n",
    "        params_filepath=PARAMS_FILE_PATH):\n",
    "        \n",
    "        self.config = read_yaml(config_filepath)\n",
    "        self.params = read_yaml(params_filepath)\n",
    "        \n",
    "        \n",
    "        create_directories([self.config.artifacts_root])\n",
    "        \n",
    "        \n",
    "    def get_training_config(self) -> TrainingConfig:\n",
    "        training=self.config.training\n",
    "        prepare_base_model=self.config.prepare_base_model\n",
    "        \n",
    "        params=self.params\n",
    "        training_data=os.path.join(self.config.data_ingestion.unzip_dir,\"kidney-ct-scan-image\")\n",
    "        \n",
    "        create_directories([training.root_dir])\n",
    "        \n",
    "        training_config = TrainingConfig(\n",
    "            root_dir=training.root_dir,\n",
    "            model_checkpoint=training.model_checkpoint,\n",
    "            updated_base_model_path=prepare_base_model.updated_base_model_path,\n",
    "            training_data=training_data,\n",
    "            params_epoch=params.EPOCHS,\n",
    "            params_batch_size=params.BATCH_SIZE,\n",
    "            params_image_size=params.IMAGE_SIZE,\n",
    "            params_augmentation=params.AUGMENTATION\n",
    "        )\n",
    "\n",
    "        return training_config"
   ]
  },
  {
   "cell_type": "code",
   "execution_count": 8,
   "id": "a3ba6792",
   "metadata": {},
   "outputs": [],
   "source": [
    "import os\n",
    "from zipfile import ZipFile\n",
    "import urllib.request as request\n",
    "import tensorflow as tf\n",
    "import time"
   ]
  },
  {
   "cell_type": "code",
   "execution_count": 9,
   "id": "d4b28fd7",
   "metadata": {},
   "outputs": [],
   "source": [
    "class Training:\n",
    "    def __init__(self, config: TrainingConfig):\n",
    "        self.config = config\n",
    "\n",
    "    def get_base_model(self):\n",
    "        self.model = tf.keras.models.load_model(self.config.updated_base_model_path)\n",
    "        \n",
    "        # For Functional models, we need to rebuild the model\n",
    "        # Get all layers except the last one\n",
    "        base_layers = self.model.layers[:-1]\n",
    "        \n",
    "        # Get the output of the second-to-last layer\n",
    "        x = self.model.layers[-2].output\n",
    "        \n",
    "        # Add new binary classification layer\n",
    "        predictions = tf.keras.layers.Dense(1, activation='sigmoid', name='binary_predictions')(x)\n",
    "        \n",
    "        # Create new model\n",
    "        self.model = tf.keras.Model(inputs=self.model.input, outputs=predictions)\n",
    "        \n",
    "        # Recompile the model for binary classification\n",
    "        self.model.compile(\n",
    "            optimizer='adam',\n",
    "            loss='binary_crossentropy',\n",
    "            metrics=['accuracy']\n",
    "        )\n",
    "    \n",
    "    \n",
    "    def train_valid_generator(self):\n",
    "\n",
    "        ## data generator copied from keras documentation\n",
    "        datagenerator_kwargs=dict(\n",
    "            rescale=1./255,\n",
    "            validation_split=0.2\n",
    "        )\n",
    "\n",
    "        dataflow_kwargs=dict(\n",
    "            target_size=self.config.params_image_size[:-1],\n",
    "            batch_size=self.config.params_batch_size,\n",
    "            interpolation=\"bilinear\"\n",
    "        )\n",
    "    \n",
    "\n",
    "        valid_datagenerator = tf.keras.preprocessing.image.ImageDataGenerator(\n",
    "            **datagenerator_kwargs\n",
    "        )\n",
    "\n",
    "        self.valid_generator=valid_datagenerator.flow_from_directory(\n",
    "            directory=self.config.training_data,\n",
    "            subset=\"validation\",\n",
    "            class_mode=\"binary\",\n",
    "            shuffle=False,\n",
    "            **dataflow_kwargs\n",
    "        )\n",
    "        \n",
    "        if self.config.params_augmentation:\n",
    "            train_datagenerator = tf.keras.preprocessing.image.ImageDataGenerator(\n",
    "                **datagenerator_kwargs,\n",
    "                rotation_range=40,\n",
    "                width_shift_range=0.2,\n",
    "                height_shift_range=0.2,\n",
    "                shear_range=0.2,\n",
    "                zoom_range=0.2,\n",
    "            )\n",
    "            \n",
    "        else:\n",
    "            train_datagenerator=valid_datagenerator\n",
    "            \n",
    "        self.train_generator=train_datagenerator.flow_from_directory(\n",
    "            directory=self.config.training_data,\n",
    "            subset=\"training\",\n",
    "            class_mode=\"binary\",\n",
    "            shuffle=True,\n",
    "            **dataflow_kwargs\n",
    "        )\n",
    "        \n",
    "    @staticmethod\n",
    "    def save_model(path:Path, model:tf.keras.Model):\n",
    "        model.save(path)\n",
    "\n",
    "\n",
    "    def train(self):\n",
    "        # formula used for calculating steps per epoch and validation steps\n",
    "        self.steps_per_epochs = self.train_generator.samples // self.config.params_batch_size\n",
    "        self.validation_steps = self.valid_generator.samples // self.config.params_batch_size\n",
    "        \n",
    "        self.model.fit(\n",
    "            self.train_generator,\n",
    "            validation_data=self.valid_generator,\n",
    "            epochs=self.config.params_epoch,\n",
    "            steps_per_epoch=self.steps_per_epochs,\n",
    "            validation_steps=self.validation_steps\n",
    "        )\n",
    "\n",
    "        self.save_model(path=self.config.model_checkpoint, model=self.model)"
   ]
  },
  {
   "cell_type": "code",
   "execution_count": 10,
   "id": "59ac8b3c",
   "metadata": {},
   "outputs": [
    {
     "name": "stdout",
     "output_type": "stream",
     "text": [
      "YAML content loaded: {'artifacts_root': 'artifacts', 'data_ingestion': {'root_dir': 'artifacts/data_ingestion', 'source_url': 'https://drive.google.com/file/d/1vlhZ5c7abUKF8xXERIw6m9Te8fW7ohw3/view?usp=sharin', 'local_file': 'artifacts/data_ingestion/data.zip', 'unzip_dir': 'artifacts/data_ingestion'}, 'prepare_base_model': {'root_dir': 'artifacts/prepare_base_model', 'base_model_path': 'artifacts/prepare_base_model/base_model.h5', 'updated_base_model_path': 'artifacts/prepare_base_model/updated_model.h5'}, 'training': {'root_dir': 'artifacts/training', 'model_checkpoint': 'artifacts/training/model.h5'}}\n",
      "YAML content loaded: {'AUGMENTATION': True, 'IMAGE_SIZE': [224, 224, 3], 'BATCH_SIZE': 32, 'INCLUDE_TOP': False, 'CLASSES': 2, 'WEIGHTS': 'imagenet', 'EPOCHS': 4, 'LEARNING_RATE': 0.001}\n",
      "[2025-08-24 14:55:18,150] INFO in common: Created directory: artifacts\n",
      "[2025-08-24 14:55:18,150] INFO in common: Created directory: artifacts/training\n",
      "Found 93 images belonging to 2 classes.\n",
      "Found 372 images belonging to 2 classes.\n",
      "Epoch 1/4\n",
      "11/11 [==============================] - 25s 2s/step - loss: 0.4616 - accuracy: 0.7765 - val_loss: 0.6243 - val_accuracy: 0.5312\n",
      "Epoch 2/4\n",
      "11/11 [==============================] - 27s 2s/step - loss: 0.2651 - accuracy: 0.8824 - val_loss: 0.1193 - val_accuracy: 0.9844\n",
      "Epoch 3/4\n",
      "11/11 [==============================] - 28s 3s/step - loss: 0.1667 - accuracy: 0.9647 - val_loss: 0.0999 - val_accuracy: 1.0000\n",
      "Epoch 4/4\n",
      "11/11 [==============================] - 31s 3s/step - loss: 0.1124 - accuracy: 0.9765 - val_loss: 0.0530 - val_accuracy: 1.0000\n"
     ]
    }
   ],
   "source": [
    "try:\n",
    "    config=ConfigurationManager()\n",
    "    training_config=config.get_training_config()\n",
    "    training=Training(config=training_config)\n",
    "    training.get_base_model()\n",
    "    training.train_valid_generator()\n",
    "    training.train()\n",
    "except Exception as e:\n",
    "    print(f\"Error occurred: {e}\")"
   ]
  },
  {
   "cell_type": "code",
   "execution_count": null,
   "id": "29c40438",
   "metadata": {},
   "outputs": [],
   "source": []
  }
 ],
 "metadata": {
  "kernelspec": {
   "display_name": ".venv",
   "language": "python",
   "name": "python3"
  },
  "language_info": {
   "codemirror_mode": {
    "name": "ipython",
    "version": 3
   },
   "file_extension": ".py",
   "mimetype": "text/x-python",
   "name": "python",
   "nbconvert_exporter": "python",
   "pygments_lexer": "ipython3",
   "version": "3.10.11"
  }
 },
 "nbformat": 4,
 "nbformat_minor": 5
}
