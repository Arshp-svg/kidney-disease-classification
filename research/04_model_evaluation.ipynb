{
 "cells": [
  {
   "cell_type": "code",
   "execution_count": 1,
   "id": "1424f82b",
   "metadata": {},
   "outputs": [],
   "source": [
    "import os"
   ]
  },
  {
   "cell_type": "code",
   "execution_count": 2,
   "id": "64446f45",
   "metadata": {},
   "outputs": [
    {
     "data": {
      "text/plain": [
       "'c:\\\\Users\\\\ARSH\\\\Desktop\\\\MLOps\\\\kidney-disease-classification\\\\research'"
      ]
     },
     "execution_count": 2,
     "metadata": {},
     "output_type": "execute_result"
    }
   ],
   "source": [
    "%pwd"
   ]
  },
  {
   "cell_type": "code",
   "execution_count": 3,
   "id": "e1725e81",
   "metadata": {},
   "outputs": [],
   "source": [
    "os.chdir(\"../\")"
   ]
  },
  {
   "cell_type": "code",
   "execution_count": 13,
   "id": "d712dffc",
   "metadata": {},
   "outputs": [
    {
     "data": {
      "text/plain": [
       "'c:\\\\Users\\\\ARSH\\\\Desktop\\\\MLOps\\\\kidney-disease-classification'"
      ]
     },
     "execution_count": 13,
     "metadata": {},
     "output_type": "execute_result"
    }
   ],
   "source": [
    "%pwd"
   ]
  },
  {
   "cell_type": "code",
   "execution_count": 14,
   "id": "8e8a89ae",
   "metadata": {},
   "outputs": [],
   "source": [
    "#credentials"
   ]
  },
  {
   "cell_type": "code",
   "execution_count": 15,
   "id": "2e4d952b",
   "metadata": {},
   "outputs": [],
   "source": [
    "import tensorflow as tf"
   ]
  },
  {
   "cell_type": "code",
   "execution_count": 16,
   "id": "2c811ac6",
   "metadata": {},
   "outputs": [],
   "source": [
    "model = tf.keras.models.load_model(\"artifacts/training/model.h5\")"
   ]
  },
  {
   "cell_type": "code",
   "execution_count": 17,
   "id": "4ddc7a0b",
   "metadata": {},
   "outputs": [],
   "source": [
    "from dataclasses import dataclass\n",
    "from pathlib import Path\n",
    "\n",
    "@dataclass(frozen=True)\n",
    "class ModelEvaluationConfig:\n",
    "    model_path: Path\n",
    "    train_data_path: Path\n",
    "    test_data_path: Path  # Added for test data path\n",
    "    all_params: dict\n",
    "    mlflow_tracking_uri: str\n",
    "    params_image_size: list\n",
    "    params_batch_size: int"
   ]
  },
  {
   "cell_type": "code",
   "execution_count": 18,
   "id": "84f172ef",
   "metadata": {},
   "outputs": [],
   "source": [
    "from cnnClassifier.constants import *\n",
    "from cnnClassifier.utils.common import read_yaml, create_directories,save_json"
   ]
  },
  {
   "cell_type": "code",
   "execution_count": 19,
   "id": "b5849159",
   "metadata": {},
   "outputs": [],
   "source": [
    "class ConfigurationManager:\n",
    "    def __init__(\n",
    "        self,\n",
    "        config_filepath=CONFIG_FILE_PATH,\n",
    "        params_filepath=PARAMS_FILE_PATH):\n",
    "        self.config = read_yaml(config_filepath)\n",
    "        self.params = read_yaml(params_filepath)\n",
    "        create_directories([self.config.artifacts_root])\n",
    "        \n",
    "        \n",
    "    def get_model_evaluation_config(self) -> ModelEvaluationConfig:\n",
    "        evaluation_config = ModelEvaluationConfig(\n",
    "            model_path=\"artifacts/training/model.h5\",\n",
    "            train_data_path=\"artifacts/data_ingestion/kidney-ct-scan-image\",\n",
    "            test_data_path=\"artifacts/data_ingestion/kidney-ct-scan-image-test\",  # NEW: test data path\n",
    "            all_params=self.params,\n",
    "            mlflow_tracking_uri=\"https://dagshub.com/arshpatel213/kidney-disease-classification.mlflow\",\n",
    "            params_image_size=self.params.IMAGE_SIZE,\n",
    "            params_batch_size=self.params.BATCH_SIZE\n",
    "        )\n",
    "        return evaluation_config\n",
    "    \n",
    "    \n",
    "    \n",
    "    \n",
    "    \n"
   ]
  },
  {
   "cell_type": "code",
   "execution_count": 20,
   "id": "76831612",
   "metadata": {},
   "outputs": [],
   "source": [
    "import tensorflow as tf\n",
    "from pathlib import Path\n",
    "import mlflow\n",
    "import mlflow.keras\n",
    "from urllib.parse import urlparse\n",
    "import numpy as np\n",
    "\n",
    "class ModelEvaluation:\n",
    "    def __init__(self, config: ModelEvaluationConfig):\n",
    "        self.config = config\n",
    "        \n",
    "    def train_valid_generator(self):\n",
    "        datagenerator_kwargs=dict(\n",
    "            rescale=1./255,\n",
    "            validation_split=0.2\n",
    "        )\n",
    "\n",
    "        dataflow_kwargs=dict(\n",
    "            target_size=self.config.params_image_size[:-1],\n",
    "            batch_size=self.config.params_batch_size,\n",
    "            interpolation=\"bilinear\"\n",
    "        )\n",
    "\n",
    "        valid_datagenerator = tf.keras.preprocessing.image.ImageDataGenerator(\n",
    "            **datagenerator_kwargs\n",
    "        )\n",
    "\n",
    "        self.valid_generator=valid_datagenerator.flow_from_directory(\n",
    "            directory=self.config.train_data_path,\n",
    "            subset=\"validation\",\n",
    "            shuffle=False,\n",
    "            class_mode=\"binary\",  # FIXED: Added missing class_mode\n",
    "            **dataflow_kwargs\n",
    "        )\n",
    "        \n",
    "    def train_valid_test_generator(self):\n",
    "        datagenerator_kwargs = dict(rescale=1./255)\n",
    "        \n",
    "        dataflow_kwargs = dict(\n",
    "            target_size=self.config.params_image_size[:-1],\n",
    "            batch_size=self.config.params_batch_size,\n",
    "            interpolation=\"bilinear\"\n",
    "        )\n",
    "\n",
    "        # Create test generator WITHOUT validation_split\n",
    "        test_datagenerator = tf.keras.preprocessing.image.ImageDataGenerator(**datagenerator_kwargs)\n",
    "        \n",
    "        # Reserve some data for testing (e.g., move 20% of each class to a separate folder)\n",
    "        self.test_generator = test_datagenerator.flow_from_directory(\n",
    "            directory=self.config.test_data_path,  # NEW: separate test folder\n",
    "            shuffle=False,\n",
    "            class_mode=\"binary\",\n",
    "            **dataflow_kwargs\n",
    "        )\n",
    "        \n",
    "    @staticmethod\n",
    "    def load_model(model_path: str) -> tf.keras.Model:\n",
    "        return tf.keras.models.load_model(model_path)\n",
    "    \n",
    "    def evaluation(self):\n",
    "        self.model = self.load_model(self.config.model_path)\n",
    "        self.train_valid_generator()\n",
    "        \n",
    "        # Add diagnostic information\n",
    "        self.detailed_evaluation()\n",
    "        \n",
    "        self.results = self.model.evaluate(self.valid_generator)  # FIXED: Use self.model\n",
    "        self.save_score()\n",
    "\n",
    "    def detailed_evaluation(self):\n",
    "        print(f\"Validation samples: {self.valid_generator.samples}\")\n",
    "        print(f\"Validation classes: {self.valid_generator.class_indices}\")\n",
    "        \n",
    "        # Check class distribution\n",
    "        labels = self.valid_generator.labels\n",
    "        unique, counts = np.unique(labels, return_counts=True)\n",
    "        print(f\"Class distribution: {dict(zip(unique, counts))}\")\n",
    "\n",
    "    def save_score(self):\n",
    "        scores={\"loss\": self.results[0], \"accuracy\": self.results[1]}\n",
    "        save_json(path=Path(\"scores.json\"), data=scores)\n",
    "        print(f\"Loss: {self.results[0]:.4f}, Accuracy: {self.results[1]:.4f}\")\n",
    "    \n",
    "    def log_into_mlflow(self):\n",
    "        mlflow.set_tracking_uri(self.config.mlflow_tracking_uri)\n",
    "        tracking_url_type_store = urlparse(mlflow.get_tracking_uri()).scheme\n",
    "        \n",
    "        with mlflow.start_run():\n",
    "            mlflow.log_params(self.config.all_params)\n",
    "            mlflow.log_metrics({\"loss\": self.results[0], \"accuracy\": self.results[1]})\n",
    "            \n",
    "            if tracking_url_type_store != \"file\":\n",
    "                mlflow.keras.log_model(self.model, \"model\", registered_model_name=\"KidneyDiseaseModel\")\n",
    "            else:\n",
    "                mlflow.keras.log_model(self.model, \"model\")\n",
    "                \n"
   ]
  },
  {
   "cell_type": "code",
   "execution_count": 21,
   "id": "ba9c442a",
   "metadata": {},
   "outputs": [
    {
     "name": "stdout",
     "output_type": "stream",
     "text": [
      "YAML content loaded: {'artifacts_root': 'artifacts', 'data_ingestion': {'root_dir': 'artifacts/data_ingestion', 'source_url': 'https://drive.google.com/file/d/1vlhZ5c7abUKF8xXERIw6m9Te8fW7ohw3/view?usp=sharin', 'local_file': 'artifacts/data_ingestion/data.zip', 'unzip_dir': 'artifacts/data_ingestion'}, 'prepare_base_model': {'root_dir': 'artifacts/prepare_base_model', 'base_model_path': 'artifacts/prepare_base_model/base_model.h5', 'updated_base_model_path': 'artifacts/prepare_base_model/updated_model.h5'}, 'training': {'root_dir': 'artifacts/training', 'model_checkpoint': 'artifacts/training/model.h5'}}\n",
      "YAML content loaded: {'AUGMENTATION': True, 'IMAGE_SIZE': [224, 224, 3], 'BATCH_SIZE': 32, 'INCLUDE_TOP': False, 'CLASSES': 2, 'WEIGHTS': 'imagenet', 'EPOCHS': 4, 'LEARNING_RATE': 0.001}\n",
      "[2025-08-24 15:14:04,385] INFO in common: Created directory: artifacts\n",
      "Found 93 images belonging to 2 classes.\n",
      "Found 93 images belonging to 2 classes.\n",
      "Validation samples: 93\n",
      "Validation classes: {'Normal': 0, 'Tumor': 1}\n",
      "Class distribution: {0: 48, 1: 45}\n",
      "Validation samples: 93\n",
      "Validation classes: {'Normal': 0, 'Tumor': 1}\n",
      "Class distribution: {0: 48, 1: 45}\n",
      "3/3 [==============================] - 5s 2s/step - loss: 0.0670 - accuracy: 1.0000\n",
      "Loss: 0.0670, Accuracy: 1.0000\n",
      "3/3 [==============================] - 5s 2s/step - loss: 0.0670 - accuracy: 1.0000\n",
      "Loss: 0.0670, Accuracy: 1.0000\n"
     ]
    }
   ],
   "source": [
    "try:\n",
    "    config=ConfigurationManager()\n",
    "    eval_config = config.get_model_evaluation_config()\n",
    "    model_eval = ModelEvaluation(eval_config)\n",
    "    model_eval.evaluation()\n",
    "    # model_eval.log_into_mlflow()\n",
    "    \n",
    "except Exception as e:\n",
    "    print(f\"Error occurred: {e}\")\n",
    "    raise e\n"
   ]
  },
  {
   "cell_type": "code",
   "execution_count": null,
   "id": "3173e5c1",
   "metadata": {},
   "outputs": [],
   "source": []
  }
 ],
 "metadata": {
  "kernelspec": {
   "display_name": ".venv",
   "language": "python",
   "name": "python3"
  },
  "language_info": {
   "codemirror_mode": {
    "name": "ipython",
    "version": 3
   },
   "file_extension": ".py",
   "mimetype": "text/x-python",
   "name": "python",
   "nbconvert_exporter": "python",
   "pygments_lexer": "ipython3",
   "version": "3.10.11"
  }
 },
 "nbformat": 4,
 "nbformat_minor": 5
}
