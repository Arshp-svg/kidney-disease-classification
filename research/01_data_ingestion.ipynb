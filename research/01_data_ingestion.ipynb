{
 "cells": [
  {
   "cell_type": "code",
   "execution_count": 1,
   "id": "b535495f",
   "metadata": {},
   "outputs": [],
   "source": [
    "import os\n"
   ]
  },
  {
   "cell_type": "code",
   "execution_count": 2,
   "id": "68082ac0",
   "metadata": {},
   "outputs": [
    {
     "data": {
      "text/plain": [
       "'c:\\\\Users\\\\ARSH\\\\Desktop\\\\MLOps\\\\kidney-disease-classification\\\\research'"
      ]
     },
     "execution_count": 2,
     "metadata": {},
     "output_type": "execute_result"
    }
   ],
   "source": [
    "%pwd"
   ]
  },
  {
   "cell_type": "code",
   "execution_count": 3,
   "id": "13e0a196",
   "metadata": {},
   "outputs": [],
   "source": [
    "os.chdir(\"..\")"
   ]
  },
  {
   "cell_type": "code",
   "execution_count": 4,
   "id": "eeaebe50",
   "metadata": {},
   "outputs": [
    {
     "data": {
      "text/plain": [
       "'c:\\\\Users\\\\ARSH\\\\Desktop\\\\MLOps\\\\kidney-disease-classification'"
      ]
     },
     "execution_count": 4,
     "metadata": {},
     "output_type": "execute_result"
    }
   ],
   "source": [
    "%pwd"
   ]
  },
  {
   "cell_type": "code",
   "execution_count": 5,
   "id": "f6ba952f",
   "metadata": {},
   "outputs": [],
   "source": [
    "from dataclasses import dataclass\n",
    "from pathlib import Path\n",
    "\n",
    "@dataclass(frozen=True)\n",
    "class DataingestionConfig:\n",
    "    root_dir: Path\n",
    "    source_url: str\n",
    "    local_file: Path\n",
    "    unzip_dir: Path\n"
   ]
  },
  {
   "cell_type": "code",
   "execution_count": 6,
   "id": "d7b20a24",
   "metadata": {},
   "outputs": [],
   "source": [
    "from cnnClassifier.constants import CONFIG_FILE_PATH,PARAMS_FILE_PATH\n",
    "from cnnClassifier.utils.common import create_directories,read_yaml\n",
    "\n",
    "class ConfigManager:\n",
    "    def __init__(self,config_filepath=CONFIG_FILE_PATH, params_filepath=PARAMS_FILE_PATH):\n",
    "        self.config = read_yaml(config_filepath)\n",
    "        self.params = read_yaml(params_filepath)\n",
    "        \n",
    "        \n",
    "        create_directories([self.config.artifacts_root])\n",
    "        \n",
    "    \n",
    "    def get_dataingestion_config(self) -> DataingestionConfig:\n",
    "       config=self.config.data_ingestion\n",
    "       \n",
    "       create_directories([config.root_dir])\n",
    "\n",
    "       data_ingestion_config = DataingestionConfig(\n",
    "           root_dir=config.root_dir,\n",
    "           source_url=config.source_url,\n",
    "           local_file=config.local_file,\n",
    "           unzip_dir=config.unzip_dir\n",
    "       )\n",
    "\n",
    "       return data_ingestion_config\n"
   ]
  },
  {
   "cell_type": "code",
   "execution_count": 7,
   "id": "c1867ffd",
   "metadata": {},
   "outputs": [],
   "source": [
    "import os\n",
    "import zipfile\n",
    "import gdown\n",
    "from cnnClassifier import logger\n",
    "from cnnClassifier.utils.common import get_file_size"
   ]
  },
  {
   "cell_type": "code",
   "execution_count": 8,
   "id": "d5e3e8b2",
   "metadata": {},
   "outputs": [],
   "source": [
    "class DataIngestion:\n",
    "    def __init__(self, config: DataingestionConfig):\n",
    "        self.config = config\n",
    "        \n",
    "        \n",
    "\n",
    "    def download_data(self):\n",
    "        try:\n",
    "            dataset_url = self.config.source_url\n",
    "            zip_download_path = self.config.local_file\n",
    "            os.makedirs(\"artifacts/data_ingestion\", exist_ok=True)\n",
    "            logger.info(f\"Downloading data from {dataset_url} to {zip_download_path}\")\n",
    "            # Extract file ID from the URL\n",
    "            file_id = dataset_url.split(\"/\")[-2]\n",
    "            gdown.download(f\"https://drive.google.com/uc?id={file_id}\", zip_download_path, quiet=False)\n",
    "            logger.info(f\"Data downloaded successfully to {zip_download_path}\")\n",
    "        except Exception as e:\n",
    "            raise e\n",
    "       \n",
    "       \n",
    "       \n",
    "       \n",
    "    def unzip_data(self):\n",
    "        if not zipfile.is_zipfile(self.config.local_file):\n",
    "            logger.error(f\"{self.config.local_file} is not a valid zip file.\")\n",
    "            raise zipfile.BadZipFile(f\"{self.config.local_file} is not a valid zip file.\")\n",
    "        os.makedirs(self.config.unzip_dir, exist_ok=True)\n",
    "        logger.info(\"Unzipping data...\")\n",
    "        with zipfile.ZipFile(self.config.local_file, 'r') as zip_ref:\n",
    "            zip_ref.extractall(self.config.unzip_dir)\n",
    "            \n",
    "            \n",
    "    \n"
   ]
  },
  {
   "cell_type": "code",
   "execution_count": 9,
   "id": "3ef3217d",
   "metadata": {},
   "outputs": [
    {
     "name": "stdout",
     "output_type": "stream",
     "text": [
      "YAML content loaded: {'artifacts_root': 'artifacts', 'data_ingestion': {'root_dir': 'artifacts/data_ingestion', 'source_url': 'https://drive.google.com/file/d/1vlhZ5c7abUKF8xXERIw6m9Te8fW7ohw3/view?usp=sharin', 'local_file': 'artifacts/data_ingestion/data.zip', 'unzip_dir': 'artifacts/data_ingestion'}, 'prepare_base_model': {'root_dir': 'artifacts/prepare_base_model', 'base_model_path': 'artifacts/prepare_base_model/base_model.h5', 'updated_base_model_path': 'artifacts/prepare_base_model/updated_model.h5'}, 'training': {'root_dir': 'artifacts/training', 'model_checkpoint': 'artifacts/training/model.h5'}}\n",
      "YAML content loaded: {'AUGMENTATION': True, 'IMAGE_SIZE': [224, 224, 3], 'BATCH_SIZE': 32, 'INCLUDE_TOP': False, 'CLASSES': 2, 'WEIGHTS': 'imagenet', 'EPOCHS': 4, 'LEARNING_RATE': 0.001}\n",
      "[2025-08-24 14:44:58,430] INFO in common: Created directory: artifacts\n",
      "[2025-08-24 14:44:58,431] INFO in common: Created directory: artifacts/data_ingestion\n",
      "[2025-08-24 14:44:58,431] INFO in 4032984887: Downloading data from https://drive.google.com/file/d/1vlhZ5c7abUKF8xXERIw6m9Te8fW7ohw3/view?usp=sharin to artifacts/data_ingestion/data.zip\n"
     ]
    },
    {
     "name": "stderr",
     "output_type": "stream",
     "text": [
      "Downloading...\n",
      "From (original): https://drive.google.com/uc?id=1vlhZ5c7abUKF8xXERIw6m9Te8fW7ohw3\n",
      "From (redirected): https://drive.google.com/uc?id=1vlhZ5c7abUKF8xXERIw6m9Te8fW7ohw3&confirm=t&uuid=0dd97300-0fbb-4e40-9afa-bdf6ad7a0934\n",
      "To: c:\\Users\\ARSH\\Desktop\\MLOps\\kidney-disease-classification\\artifacts\\data_ingestion\\data.zip\n",
      "100%|██████████| 57.7M/57.7M [00:05<00:00, 11.2MB/s]"
     ]
    },
    {
     "name": "stdout",
     "output_type": "stream",
     "text": [
      "[2025-08-24 14:45:07,249] INFO in 4032984887: Data downloaded successfully to artifacts/data_ingestion/data.zip\n",
      "[2025-08-24 14:45:07,250] INFO in 4032984887: Unzipping data...\n"
     ]
    },
    {
     "name": "stderr",
     "output_type": "stream",
     "text": [
      "\n"
     ]
    }
   ],
   "source": [
    "try:\n",
    "    config=ConfigManager()\n",
    "    data_ingestion_config=config.get_dataingestion_config()\n",
    "    dataingestion=DataIngestion(config=data_ingestion_config)\n",
    "    dataingestion.download_data()\n",
    "    dataingestion.unzip_data()\n",
    "except Exception as e:\n",
    "    logger.error(f\"Error occurred during data ingestion: {e}\")\n",
    "    "
   ]
  }
 ],
 "metadata": {
  "kernelspec": {
   "display_name": ".venv",
   "language": "python",
   "name": "python3"
  },
  "language_info": {
   "codemirror_mode": {
    "name": "ipython",
    "version": 3
   },
   "file_extension": ".py",
   "mimetype": "text/x-python",
   "name": "python",
   "nbconvert_exporter": "python",
   "pygments_lexer": "ipython3",
   "version": "3.10.11"
  }
 },
 "nbformat": 4,
 "nbformat_minor": 5
}
